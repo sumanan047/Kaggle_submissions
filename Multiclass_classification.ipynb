{
  "nbformat": 4,
  "nbformat_minor": 0,
  "metadata": {
    "kernelspec": {
      "display_name": "Python 3",
      "language": "python",
      "name": "python3"
    },
    "language_info": {
      "codemirror_mode": {
        "name": "ipython",
        "version": 3
      },
      "file_extension": ".py",
      "mimetype": "text/x-python",
      "name": "python",
      "nbconvert_exporter": "python",
      "pygments_lexer": "ipython3",
      "version": "3.7.4"
    },
    "colab": {
      "name": "Multiclass_classification.ipynb",
      "provenance": [],
      "collapsed_sections": [],
      "include_colab_link": true
    }
  },
  "cells": [
    {
      "cell_type": "markdown",
      "metadata": {
        "id": "view-in-github",
        "colab_type": "text"
      },
      "source": [
        "<a href=\"https://colab.research.google.com/github/sumanan047/Kaggle_submissions/blob/master/Multiclass_classification.ipynb\" target=\"_parent\"><img src=\"https://colab.research.google.com/assets/colab-badge.svg\" alt=\"Open In Colab\"/></a>"
      ]
    },
    {
      "cell_type": "markdown",
      "metadata": {
        "id": "VQn_G9-jdYdm",
        "colab_type": "text"
      },
      "source": [
        "<h1 align = \"center\"> MultiClass Classification </h1>"
      ]
    },
    {
      "cell_type": "markdown",
      "metadata": {
        "id": "CVnr0PXDdYdp",
        "colab_type": "text"
      },
      "source": [
        "Some algorithms like SGD classifiers, Random Forest classifiers and naive Bayes classifiers can handle multiclass classification problem natively. Others like logistic regression and support vector machines can be trained to handle multiclass problems with a chnaged starategy. "
      ]
    },
    {
      "cell_type": "markdown",
      "metadata": {
        "id": "lxaT349adYdq",
        "colab_type": "text"
      },
      "source": [
        "## One-vs-all classifier (OvA or OvR(rest))"
      ]
    },
    {
      "cell_type": "markdown",
      "metadata": {
        "id": "ZeAJhVSYdYdr",
        "colab_type": "text"
      },
      "source": [
        "Training multiple binary classifiers and then getting decision scores from each and then finally using the highest score to predict that the particular instance belongs to the class with highest decision score predicted. "
      ]
    },
    {
      "cell_type": "markdown",
      "metadata": {
        "id": "rnOSlq9VdYdt",
        "colab_type": "text"
      },
      "source": [
        "## One-vs-all classifier (OvA or OvR(rest))"
      ]
    },
    {
      "cell_type": "markdown",
      "metadata": {
        "id": "6zGFi292dYdy",
        "colab_type": "text"
      },
      "source": [
        "This involves defining a classifier for each pair in the out put class. For a n output class, the training will have to on (nC2) for each instance."
      ]
    },
    {
      "cell_type": "markdown",
      "metadata": {
        "id": "xYvYw01AdYd0",
        "colab_type": "text"
      },
      "source": [
        "# Importing libraries"
      ]
    },
    {
      "cell_type": "code",
      "metadata": {
        "id": "F10iuCeOdYd2",
        "colab_type": "code",
        "colab": {
          "base_uri": "https://localhost:8080/",
          "height": 51
        },
        "outputId": "785c75d6-149c-4e4b-e39c-52e8ef31cd4b"
      },
      "source": [
        "import numpy as np\n",
        "import matplotlib as mpl\n",
        "import matplotlib.pyplot as plt\n",
        "import seaborn as sns"
      ],
      "execution_count": 2,
      "outputs": [
        {
          "output_type": "stream",
          "text": [
            "/usr/local/lib/python3.6/dist-packages/statsmodels/tools/_testing.py:19: FutureWarning: pandas.util.testing is deprecated. Use the functions in the public API at pandas.testing instead.\n",
            "  import pandas.util.testing as tm\n"
          ],
          "name": "stderr"
        }
      ]
    },
    {
      "cell_type": "markdown",
      "metadata": {
        "id": "yEfeaVNFdYd_",
        "colab_type": "text"
      },
      "source": [
        "# Importing data"
      ]
    },
    {
      "cell_type": "code",
      "metadata": {
        "id": "vCbDb9rPdYeA",
        "colab_type": "code",
        "colab": {
          "base_uri": "https://localhost:8080/",
          "height": 34
        },
        "outputId": "c6bc7133-f230-400d-9075-976126ce1e9f"
      },
      "source": [
        "from sklearn.datasets import fetch_openml\n",
        "mnist = fetch_openml('mnist_784', version=1)\n",
        "mnist.keys()"
      ],
      "execution_count": 3,
      "outputs": [
        {
          "output_type": "execute_result",
          "data": {
            "text/plain": [
              "dict_keys(['data', 'target', 'frame', 'feature_names', 'target_names', 'DESCR', 'details', 'categories', 'url'])"
            ]
          },
          "metadata": {
            "tags": []
          },
          "execution_count": 3
        }
      ]
    },
    {
      "cell_type": "code",
      "metadata": {
        "id": "bGOtKsngdYeL",
        "colab_type": "code",
        "colab": {}
      },
      "source": [
        "X, y = mnist['data'],mnist['target']\n",
        "X_train, X_test, y_train, y_test = X[:6000],X[6000:],y[:6000],y[6000:] # the data is already shuffled for us,\n",
        "                                                                        # sometimes not good, time series data"
      ],
      "execution_count": 0,
      "outputs": []
    },
    {
      "cell_type": "code",
      "metadata": {
        "id": "Hg7SzxhLdYeW",
        "colab_type": "code",
        "colab": {
          "base_uri": "https://localhost:8080/",
          "height": 265
        },
        "outputId": "730edd0c-0948-4b02-93f5-a614c6394e3c"
      },
      "source": [
        "import matplotlib as mpl\n",
        "import matplotlib.pyplot as plt\n",
        "\n",
        "some_digit = X[0]\n",
        "some_digit_image = some_digit.reshape(28,28)\n",
        "\n",
        "\n",
        "plt.imshow(some_digit_image,cmap='binary')\n",
        "plt.axis(\"off\")\n",
        "plt.show"
      ],
      "execution_count": 5,
      "outputs": [
        {
          "output_type": "execute_result",
          "data": {
            "text/plain": [
              "<function matplotlib.pyplot.show>"
            ]
          },
          "metadata": {
            "tags": []
          },
          "execution_count": 5
        },
        {
          "output_type": "display_data",
          "data": {
            "image/png": "[encoded data removed]",
            "text/plain": [
              "<Figure size 432x288 with 1 Axes>"
            ]
          },
          "metadata": {
            "tags": [],
            "needs_background": "light"
          }
        }
      ]
    },
    {
      "cell_type": "markdown",
      "metadata": {
        "id": "ChWHT_e9dYee",
        "colab_type": "text"
      },
      "source": [
        "# 1. Support vector machine OvO strategy"
      ]
    },
    {
      "cell_type": "code",
      "metadata": {
        "id": "cD5_-b25dYef",
        "colab_type": "code",
        "colab": {
          "base_uri": "https://localhost:8080/",
          "height": 34
        },
        "outputId": "daf82f46-3183-457c-ffcd-4fe1e48db44a"
      },
      "source": [
        "from sklearn.svm import SVC\n",
        "svm_clf = SVC(gamma = 'auto')\n",
        "svm_clf.fit(X_train, y_train) # it will use OvO strategy\n",
        "svm_clf.predict([some_digit])"
      ],
      "execution_count": 6,
      "outputs": [
        {
          "output_type": "execute_result",
          "data": {
            "text/plain": [
              "array(['5'], dtype=object)"
            ]
          },
          "metadata": {
            "tags": []
          },
          "execution_count": 6
        }
      ]
    },
    {
      "cell_type": "code",
      "metadata": {
        "id": "dyw2heg6dYes",
        "colab_type": "code",
        "colab": {
          "base_uri": "https://localhost:8080/",
          "height": 51
        },
        "outputId": "0cc89f5e-3396-4c75-b2fe-a9e3d36683ff"
      },
      "source": [
        "some_digit_score = svm_clf.decision_function([some_digit])\n",
        "some_digit_score"
      ],
      "execution_count": 7,
      "outputs": [
        {
          "output_type": "execute_result",
          "data": {
            "text/plain": [
              "array([[ 1.8249344 ,  8.01830986,  0.81268669,  4.8465137 ,  5.87200033,\n",
              "         9.29462954,  3.8465137 ,  6.94086295, -0.21310287,  2.83645231]])"
            ]
          },
          "metadata": {
            "tags": []
          },
          "execution_count": 7
        }
      ]
    },
    {
      "cell_type": "code",
      "metadata": {
        "id": "mGVHZBbxdYe2",
        "colab_type": "code",
        "colab": {
          "base_uri": "https://localhost:8080/",
          "height": 34
        },
        "outputId": "e1083e50-7ef6-4aaa-e21c-39788d90d5a3"
      },
      "source": [
        "svm_clf.classes_"
      ],
      "execution_count": 8,
      "outputs": [
        {
          "output_type": "execute_result",
          "data": {
            "text/plain": [
              "array(['0', '1', '2', '3', '4', '5', '6', '7', '8', '9'], dtype=object)"
            ]
          },
          "metadata": {
            "tags": []
          },
          "execution_count": 8
        }
      ]
    },
    {
      "cell_type": "code",
      "metadata": {
        "id": "la7WNq8_dYe-",
        "colab_type": "code",
        "colab": {
          "base_uri": "https://localhost:8080/",
          "height": 34
        },
        "outputId": "46264044-ffa5-472f-a499-294cad81113e"
      },
      "source": [
        "from sklearn.multiclass import OneVsRestClassifier\n",
        "ovr_clf = OneVsRestClassifier(SVC(gamma = 'auto'))\n",
        "ovr_clf.fit(X_train, y_train)\n",
        "ovr_clf.predict([some_digit])"
      ],
      "execution_count": 9,
      "outputs": [
        {
          "output_type": "execute_result",
          "data": {
            "text/plain": [
              "array(['5'], dtype='<U1')"
            ]
          },
          "metadata": {
            "tags": []
          },
          "execution_count": 9
        }
      ]
    },
    {
      "cell_type": "markdown",
      "metadata": {
        "id": "L0-SMobsnmue",
        "colab_type": "text"
      },
      "source": [
        "# 2. SGDClassifier"
      ]
    },
    {
      "cell_type": "code",
      "metadata": {
        "id": "Mp0mVMhKdYfG",
        "colab_type": "code",
        "colab": {
          "base_uri": "https://localhost:8080/",
          "height": 34
        },
        "outputId": "875b483c-e4ec-4b7f-d72d-2654b39bb352"
      },
      "source": [
        "from sklearn.linear_model import SGDClassifier\n",
        "sgd_clf = SGDClassifier(random_state = 42)\n",
        "\n",
        "sgd_clf.fit(X_train, y_train)\n",
        "sgd_clf.predict([some_digit])"
      ],
      "execution_count": 10,
      "outputs": [
        {
          "output_type": "execute_result",
          "data": {
            "text/plain": [
              "array(['5'], dtype='<U1')"
            ]
          },
          "metadata": {
            "tags": []
          },
          "execution_count": 10
        }
      ]
    },
    {
      "cell_type": "code",
      "metadata": {
        "id": "OWHduzgdhsVv",
        "colab_type": "code",
        "colab": {
          "base_uri": "https://localhost:8080/",
          "height": 34
        },
        "outputId": "c5f1d75a-9975-46bc-99d5-7319014c1386"
      },
      "source": [
        "from sklearn.model_selection import cross_val_score, cross_val_predict\n",
        "cross_val_score(sgd_clf, X_train, y_train, cv=3, scoring=\"accuracy\")"
      ],
      "execution_count": 20,
      "outputs": [
        {
          "output_type": "execute_result",
          "data": {
            "text/plain": [
              "array([0.8565, 0.8715, 0.8635])"
            ]
          },
          "metadata": {
            "tags": []
          },
          "execution_count": 20
        }
      ]
    },
    {
      "cell_type": "code",
      "metadata": {
        "id": "XrHyNLYdh9Rl",
        "colab_type": "code",
        "colab": {}
      },
      "source": [
        "from sklearn.preprocessing import StandardScaler\n",
        "scalar = StandardScaler()\n",
        "X_train_scaled = scalar.fit_transform(X_train.astype(np.float64))\n",
        "cross_val_score(sgd_clf, X_train_scaled, y_train, cv = 3, scoring=\"accuracy\")\n",
        "y_train_pred = cross_val_predict(sgd_clf, X_train_scaled, y_train, cv = 3)"
      ],
      "execution_count": 0,
      "outputs": []
    },
    {
      "cell_type": "markdown",
      "metadata": {
        "id": "bQFyq3l2nvZf",
        "colab_type": "text"
      },
      "source": [
        "# 3. Visualizing confusion matrix"
      ]
    },
    {
      "cell_type": "code",
      "metadata": {
        "id": "0RsyyUndjEib",
        "colab_type": "code",
        "colab": {
          "base_uri": "https://localhost:8080/",
          "height": 187
        },
        "outputId": "1b4b3d4f-a3f1-40c5-817a-ad60c08b081c"
      },
      "source": [
        "from sklearn.metrics import confusion_matrix\n",
        "conf_mx = confusion_matrix(y_train, y_train_pred)\n",
        "conf_mx"
      ],
      "execution_count": 23,
      "outputs": [
        {
          "output_type": "execute_result",
          "data": {
            "text/plain": [
              "array([[572,   0,   1,   2,   1,   9,   3,   1,   3,   0],\n",
              "       [  0, 637,   6,   3,   1,   5,   0,   1,  16,   2],\n",
              "       [ 10,  12, 493,  11,  10,   4,  10,   9,  20,   2],\n",
              "       [  3,   5,  21, 514,   1,  35,   1,   7,  11,  10],\n",
              "       [  3,   2,   7,   0, 556,   2,  10,   8,   9,  26],\n",
              "       [  5,   6,   5,  24,  14, 411,  10,   1,  25,  13],\n",
              "       [  4,   4,   6,   0,   5,   6, 577,   1,   5,   0],\n",
              "       [  3,   4,   7,   2,   9,   0,   1, 577,   3,  45],\n",
              "       [  2,  19,  13,  16,   4,  10,   6,   3, 464,  14],\n",
              "       [  7,   4,   5,   7,  15,   3,   0,  27,  11, 522]])"
            ]
          },
          "metadata": {
            "tags": []
          },
          "execution_count": 23
        }
      ]
    },
    {
      "cell_type": "code",
      "metadata": {
        "id": "N1efBzx5oKWS",
        "colab_type": "code",
        "colab": {
          "base_uri": "https://localhost:8080/",
          "height": 275
        },
        "outputId": "abb42dc3-b821-447e-be6b-e9315d80a3bc"
      },
      "source": [
        "plt.matshow(conf_mx, cmap=plt.cm.gray)\n",
        "plt.show()"
      ],
      "execution_count": 24,
      "outputs": [
        {
          "output_type": "display_data",
          "data": {
            "image/png": "[encoded data removed]",
            "text/plain": [
              "<Figure size 288x288 with 1 Axes>"
            ]
          },
          "metadata": {
            "tags": [],
            "needs_background": "light"
          }
        }
      ]
    },
    {
      "cell_type": "markdown",
      "metadata": {
        "id": "Y-T32j96qPoQ",
        "colab_type": "text"
      },
      "source": [
        "# 4. Random Forest Classifier"
      ]
    },
    {
      "cell_type": "code",
      "metadata": {
        "id": "3RO560LYpPE0",
        "colab_type": "code",
        "colab": {}
      },
      "source": [
        "from sklearn.ensemble import RandomForestClassifier\n",
        "rf_clf = RandomForestClassifier(n_estimators=100,random_state = 42)\n",
        "cross_val_score(rf_clf, X_train_scaled, y_train, cv = 3, scoring=\"accuracy\")\n",
        "y_train_pred_rf = cross_val_predict(rf_clf, X_train_scaled, y_train, cv = 3)"
      ],
      "execution_count": 0,
      "outputs": []
    },
    {
      "cell_type": "code",
      "metadata": {
        "id": "fRIFiHUVqm8e",
        "colab_type": "code",
        "colab": {
          "base_uri": "https://localhost:8080/",
          "height": 187
        },
        "outputId": "2aa8ee49-89e9-4257-8aba-47d9a8c285de"
      },
      "source": [
        "conf_mx_rf = confusion_matrix(y_train, y_train_pred_rf)\n",
        "conf_mx_rf"
      ],
      "execution_count": 34,
      "outputs": [
        {
          "output_type": "execute_result",
          "data": {
            "text/plain": [
              "array([[575,   0,   1,   1,   1,   2,   6,   1,   5,   0],\n",
              "       [  0, 655,   5,   1,   2,   0,   1,   4,   2,   1],\n",
              "       [  8,   6, 533,   4,   6,   0,   5,   7,  11,   1],\n",
              "       [  1,   5,  10, 548,   1,  18,   2,   9,   6,   8],\n",
              "       [  1,   2,   3,   0, 587,   0,   7,   1,   1,  21],\n",
              "       [  3,   4,   2,  14,   5, 465,   9,   2,   4,   6],\n",
              "       [  3,   2,   6,   0,   2,   4, 590,   0,   1,   0],\n",
              "       [  1,  12,   5,   0,  11,   0,   0, 604,   0,  18],\n",
              "       [  0,   7,  10,  15,   4,  12,  11,   1, 480,  11],\n",
              "       [  8,   3,   3,   8,  14,   1,   1,  11,   3, 549]])"
            ]
          },
          "metadata": {
            "tags": []
          },
          "execution_count": 34
        }
      ]
    },
    {
      "cell_type": "code",
      "metadata": {
        "id": "yeaVRd69rVF8",
        "colab_type": "code",
        "colab": {
          "base_uri": "https://localhost:8080/",
          "height": 34
        },
        "outputId": "0f6bf2dd-7c27-42cf-c227-3514706e8c33"
      },
      "source": [
        "cross_val_score(rf_clf, X_train, y_train, cv=3, scoring=\"accuracy\")"
      ],
      "execution_count": 29,
      "outputs": [
        {
          "output_type": "execute_result",
          "data": {
            "text/plain": [
              "array([0.9295, 0.936 , 0.9285])"
            ]
          },
          "metadata": {
            "tags": []
          },
          "execution_count": 29
        }
      ]
    },
    {
      "cell_type": "markdown",
      "metadata": {
        "id": "vBSJlq_R596N",
        "colab_type": "text"
      },
      "source": [
        "# 5. KNeighborsClassifier"
      ]
    },
    {
      "cell_type": "code",
      "metadata": {
        "id": "S7QexBSHrmHG",
        "colab_type": "code",
        "colab": {}
      },
      "source": [
        "from sklearn.neighbors import KNeighborsClassifier\n",
        "# we create an instance of Neighbours Classifier and fit the data.\n",
        "kn_clf = KNeighborsClassifier(n_neighbors=5, weights='distance', p= 2)\n",
        "cross_val_score(kn_clf, X_train_scaled, y_train, cv = 3, scoring=\"accuracy\")\n",
        "y_train_pred_kn = cross_val_predict(kn_clf, X_train_scaled, y_train, cv = 3)"
      ],
      "execution_count": 0,
      "outputs": []
    },
    {
      "cell_type": "code",
      "metadata": {
        "id": "aXD8C67G7-QO",
        "colab_type": "code",
        "colab": {
          "base_uri": "https://localhost:8080/",
          "height": 187
        },
        "outputId": "52321e4b-0a6d-4425-994e-91c08afd4bd3"
      },
      "source": [
        "conf_mx_kn = confusion_matrix(y_train, y_train_pred_kn)\n",
        "conf_mx_kn"
      ],
      "execution_count": 49,
      "outputs": [
        {
          "output_type": "execute_result",
          "data": {
            "text/plain": [
              "array([[580,   1,   0,   1,   0,   4,   3,   1,   2,   0],\n",
              "       [  0, 660,   4,   2,   2,   1,   0,   0,   1,   1],\n",
              "       [  5,  24, 476,  24,   9,   1,  14,  12,  14,   2],\n",
              "       [  3,   6,  12, 553,   2,   7,   1,  10,   9,   5],\n",
              "       [  0,  26,  11,   0, 523,   6,   5,   3,   1,  48],\n",
              "       [  6,   6,   1,  23,   6, 435,  10,   0,  15,  12],\n",
              "       [ 12,   3,   5,   0,   2,   9, 576,   0,   1,   0],\n",
              "       [  1,  19,   2,   0,  13,   0,   0, 560,   0,  56],\n",
              "       [  7,  17,   6,  18,   5,  19,   4,   2, 463,  10],\n",
              "       [  4,   2,   4,   6,  18,   1,   1,  42,   3, 520]])"
            ]
          },
          "metadata": {
            "tags": []
          },
          "execution_count": 49
        }
      ]
    },
    {
      "cell_type": "code",
      "metadata": {
        "id": "hCchPqXn9GuL",
        "colab_type": "code",
        "colab": {
          "base_uri": "https://localhost:8080/",
          "height": 34
        },
        "outputId": "c4541ee8-9a9c-4561-9ee7-d5605c1d655b"
      },
      "source": [
        "cross_val_score(kn_clf, X_train, y_train, cv=3, scoring=\"accuracy\")"
      ],
      "execution_count": 50,
      "outputs": [
        {
          "output_type": "execute_result",
          "data": {
            "text/plain": [
              "array([0.9265, 0.939 , 0.93  ])"
            ]
          },
          "metadata": {
            "tags": []
          },
          "execution_count": 50
        }
      ]
    },
    {
      "cell_type": "code",
      "metadata": {
        "id": "nTYgi1uA9Syk",
        "colab_type": "code",
        "colab": {
          "base_uri": "https://localhost:8080/",
          "height": 204
        },
        "outputId": "93d5620b-7b5e-4306-b66b-bb5e792ba28f"
      },
      "source": [
        "from sklearn.model_selection import GridSearchCV\n",
        "\n",
        "param_grids = [{\"n_neighbors\" : [1,5,10,15], \"weights\" : [\"uniform\", \"distance\"]}]\n",
        "grid_search = GridSearchCV(kn_clf, param_grids, cv=3, scoring =\"accuracy\", return_train_score = True)\n",
        "grid_search.fit(X_train_scaled, y_train)"
      ],
      "execution_count": 54,
      "outputs": [
        {
          "output_type": "execute_result",
          "data": {
            "text/plain": [
              "GridSearchCV(cv=3, error_score=nan,\n",
              "             estimator=KNeighborsClassifier(algorithm='auto', leaf_size=30,\n",
              "                                            metric='minkowski',\n",
              "                                            metric_params=None, n_jobs=None,\n",
              "                                            n_neighbors=5, p=2,\n",
              "                                            weights='distance'),\n",
              "             iid='deprecated', n_jobs=None,\n",
              "             param_grid=[{'n_neighbors': [1, 5, 10, 15],\n",
              "                          'weights': ['uniform', 'distance']}],\n",
              "             pre_dispatch='2*n_jobs', refit=True, return_train_score=True,\n",
              "             scoring='accuracy', verbose=0)"
            ]
          },
          "metadata": {
            "tags": []
          },
          "execution_count": 54
        }
      ]
    },
    {
      "cell_type": "code",
      "metadata": {
        "id": "kZsyO2akUnjX",
        "colab_type": "code",
        "colab": {
          "base_uri": "https://localhost:8080/",
          "height": 34
        },
        "outputId": "faec4f03-2cf7-4f5f-84ab-6deb3b002a58"
      },
      "source": [
        "grid_search.best_params_"
      ],
      "execution_count": 55,
      "outputs": [
        {
          "output_type": "execute_result",
          "data": {
            "text/plain": [
              "{'n_neighbors': 5, 'weights': 'distance'}"
            ]
          },
          "metadata": {
            "tags": []
          },
          "execution_count": 55
        }
      ]
    },
    {
      "cell_type": "code",
      "metadata": {
        "id": "WMrK_nzHaFW3",
        "colab_type": "code",
        "colab": {
          "base_uri": "https://localhost:8080/",
          "height": 153
        },
        "outputId": "761f51f2-e460-4ca0-9c42-3317442f915d"
      },
      "source": [
        "cvres = grid_search.cv_results_\n",
        "for mean_score,params in zip(cvres[\"mean_test_score\"],cvres[\"params\"]):\n",
        "  print(mean_score, params)"
      ],
      "execution_count": 58,
      "outputs": [
        {
          "output_type": "stream",
          "text": [
            "0.8849999999999999 {'n_neighbors': 1, 'weights': 'uniform'}\n",
            "0.8849999999999999 {'n_neighbors': 1, 'weights': 'distance'}\n",
            "0.8853333333333334 {'n_neighbors': 5, 'weights': 'uniform'}\n",
            "0.891 {'n_neighbors': 5, 'weights': 'distance'}\n",
            "0.8809999999999999 {'n_neighbors': 10, 'weights': 'uniform'}\n",
            "0.8843333333333333 {'n_neighbors': 10, 'weights': 'distance'}\n",
            "0.8758333333333334 {'n_neighbors': 15, 'weights': 'uniform'}\n",
            "0.8795000000000001 {'n_neighbors': 15, 'weights': 'distance'}\n"
          ],
          "name": "stdout"
        }
      ]
    },
    {
      "cell_type": "code",
      "metadata": {
        "id": "TeIOENeCa86r",
        "colab_type": "code",
        "colab": {
          "base_uri": "https://localhost:8080/",
          "height": 425
        },
        "outputId": "66e5dc2c-f82f-4d96-aff2-f39c7ec7690f"
      },
      "source": [
        "# grid search using random forest\n",
        "\n",
        "param_grids = [{\"n_estimators\" : [1, 100, 1000, 10000], \"random_state\" : [0, 50, 100], \"max_depth\": [2,10]}]\n",
        "grid_search = GridSearchCV(rf_clf, param_grids, cv=3, scoring =\"accuracy\", return_train_score = True, verbose=1)\n",
        "grid_search.fit(X_train_scaled, y_train)"
      ],
      "execution_count": 59,
      "outputs": [
        {
          "output_type": "stream",
          "text": [
            "Fitting 3 folds for each of 24 candidates, totalling 72 fits\n"
          ],
          "name": "stdout"
        },
        {
          "output_type": "stream",
          "text": [
            "[Parallel(n_jobs=1)]: Using backend SequentialBackend with 1 concurrent workers.\n",
            "[Parallel(n_jobs=1)]: Done  72 out of  72 | elapsed: 45.2min finished\n"
          ],
          "name": "stderr"
        },
        {
          "output_type": "execute_result",
          "data": {
            "text/plain": [
              "GridSearchCV(cv=3, error_score=nan,\n",
              "             estimator=RandomForestClassifier(bootstrap=True, ccp_alpha=0.0,\n",
              "                                              class_weight=None,\n",
              "                                              criterion='gini', max_depth=None,\n",
              "                                              max_features='auto',\n",
              "                                              max_leaf_nodes=None,\n",
              "                                              max_samples=None,\n",
              "                                              min_impurity_decrease=0.0,\n",
              "                                              min_impurity_split=None,\n",
              "                                              min_samples_leaf=1,\n",
              "                                              min_samples_split=2,\n",
              "                                              min_weight_fraction_leaf=0.0,\n",
              "                                              n_estimators=100, n_jobs=None,\n",
              "                                              oob_score=False, random_state=42,\n",
              "                                              verbose=0, warm_start=False),\n",
              "             iid='deprecated', n_jobs=None,\n",
              "             param_grid=[{'max_depth': [2, 10],\n",
              "                          'n_estimators': [1, 100, 1000, 10000],\n",
              "                          'random_state': [0, 50, 100]}],\n",
              "             pre_dispatch='2*n_jobs', refit=True, return_train_score=True,\n",
              "             scoring='accuracy', verbose=1)"
            ]
          },
          "metadata": {
            "tags": []
          },
          "execution_count": 59
        }
      ]
    },
    {
      "cell_type": "code",
      "metadata": {
        "id": "mmpZsThUij-G",
        "colab_type": "code",
        "colab": {
          "base_uri": "https://localhost:8080/",
          "height": 34
        },
        "outputId": "540f7835-b2bc-47f1-c679-ae8e759898f4"
      },
      "source": [
        "grid_search.best_params_"
      ],
      "execution_count": 60,
      "outputs": [
        {
          "output_type": "execute_result",
          "data": {
            "text/plain": [
              "{'max_depth': 10, 'n_estimators': 1000, 'random_state': 100}"
            ]
          },
          "metadata": {
            "tags": []
          },
          "execution_count": 60
        }
      ]
    },
    {
      "cell_type": "code",
      "metadata": {
        "id": "WbFeQc2Pt3AF",
        "colab_type": "code",
        "colab": {
          "base_uri": "https://localhost:8080/",
          "height": 425
        },
        "outputId": "cf37d34f-46ba-4f94-9285-cff6e43a7ccb"
      },
      "source": [
        "cvres = grid_search.cv_results_\n",
        "for mean_score,params in zip(cvres[\"mean_test_score\"],cvres[\"params\"]):\n",
        "  print(mean_score, params)"
      ],
      "execution_count": 61,
      "outputs": [
        {
          "output_type": "stream",
          "text": [
            "0.304 {'max_depth': 2, 'n_estimators': 1, 'random_state': 0}\n",
            "0.27183333333333337 {'max_depth': 2, 'n_estimators': 1, 'random_state': 50}\n",
            "0.27299999999999996 {'max_depth': 2, 'n_estimators': 1, 'random_state': 100}\n",
            "0.6415000000000001 {'max_depth': 2, 'n_estimators': 100, 'random_state': 0}\n",
            "0.6491666666666666 {'max_depth': 2, 'n_estimators': 100, 'random_state': 50}\n",
            "0.6309999999999999 {'max_depth': 2, 'n_estimators': 100, 'random_state': 100}\n",
            "0.6415000000000001 {'max_depth': 2, 'n_estimators': 1000, 'random_state': 0}\n",
            "0.644 {'max_depth': 2, 'n_estimators': 1000, 'random_state': 50}\n",
            "0.6421666666666667 {'max_depth': 2, 'n_estimators': 1000, 'random_state': 100}\n",
            "0.6443333333333333 {'max_depth': 2, 'n_estimators': 10000, 'random_state': 0}\n",
            "0.6463333333333333 {'max_depth': 2, 'n_estimators': 10000, 'random_state': 50}\n",
            "0.6458333333333334 {'max_depth': 2, 'n_estimators': 10000, 'random_state': 100}\n",
            "0.6576666666666667 {'max_depth': 10, 'n_estimators': 1, 'random_state': 0}\n",
            "0.6823333333333332 {'max_depth': 10, 'n_estimators': 1, 'random_state': 50}\n",
            "0.6438333333333334 {'max_depth': 10, 'n_estimators': 1, 'random_state': 100}\n",
            "0.9276666666666668 {'max_depth': 10, 'n_estimators': 100, 'random_state': 0}\n",
            "0.9255 {'max_depth': 10, 'n_estimators': 100, 'random_state': 50}\n",
            "0.9255 {'max_depth': 10, 'n_estimators': 100, 'random_state': 100}\n",
            "0.9293333333333332 {'max_depth': 10, 'n_estimators': 1000, 'random_state': 0}\n",
            "0.9291666666666667 {'max_depth': 10, 'n_estimators': 1000, 'random_state': 50}\n",
            "0.9298333333333334 {'max_depth': 10, 'n_estimators': 1000, 'random_state': 100}\n",
            "0.9295 {'max_depth': 10, 'n_estimators': 10000, 'random_state': 0}\n",
            "0.9298333333333334 {'max_depth': 10, 'n_estimators': 10000, 'random_state': 50}\n",
            "0.9285000000000001 {'max_depth': 10, 'n_estimators': 10000, 'random_state': 100}\n"
          ],
          "name": "stdout"
        }
      ]
    },
    {
      "cell_type": "code",
      "metadata": {
        "id": "Wqab9S7RuUPB",
        "colab_type": "code",
        "colab": {
          "base_uri": "https://localhost:8080/",
          "height": 170
        },
        "outputId": "90b094d1-743d-40cb-ddbd-22ec6333cfbd"
      },
      "source": [
        "cross_val_score(kn_clf, X_train, y_train, cv=3, scoring=\"accuracy\")\n",
        "y_predict = cross_val_score(kn_clf, X_train, y_train, cv=3, verbose = 2)"
      ],
      "execution_count": 66,
      "outputs": [
        {
          "output_type": "stream",
          "text": [
            "[Parallel(n_jobs=1)]: Using backend SequentialBackend with 1 concurrent workers.\n"
          ],
          "name": "stderr"
        },
        {
          "output_type": "stream",
          "text": [
            "[CV]  ................................................................\n",
            "[CV] ................................................. , total=  16.2s\n",
            "[CV]  ................................................................\n"
          ],
          "name": "stdout"
        },
        {
          "output_type": "stream",
          "text": [
            "[Parallel(n_jobs=1)]: Done   1 out of   1 | elapsed:   16.2s remaining:    0.0s\n"
          ],
          "name": "stderr"
        },
        {
          "output_type": "stream",
          "text": [
            "[CV] ................................................. , total=  16.1s\n",
            "[CV]  ................................................................\n",
            "[CV] ................................................. , total=  16.0s\n"
          ],
          "name": "stdout"
        },
        {
          "output_type": "stream",
          "text": [
            "[Parallel(n_jobs=1)]: Done   3 out of   3 | elapsed:   48.3s finished\n"
          ],
          "name": "stderr"
        }
      ]
    },
    {
      "cell_type": "code",
      "metadata": {
        "id": "9DVAkYzHuyqJ",
        "colab_type": "code",
        "colab": {
          "base_uri": "https://localhost:8080/",
          "height": 51
        },
        "outputId": "93b05470-8153-4edd-8c58-0d6b58ffe4ba"
      },
      "source": [
        "from sklearn.metrics import accuracy_score\n",
        "y_predict = cross_val_predict(kn_clf, X_test, y_test, cv=3, verbose =2)\n",
        "accuracy_score(y_test, y_predict)"
      ],
      "execution_count": 0,
      "outputs": [
        {
          "output_type": "stream",
          "text": [
            "[Parallel(n_jobs=1)]: Using backend SequentialBackend with 1 concurrent workers.\n",
            "[Parallel(n_jobs=1)]: Done   1 out of   1 | elapsed: 27.3min remaining:    0.0s\n"
          ],
          "name": "stderr"
        }
      ]
    },
    {
      "cell_type": "code",
      "metadata": {
        "id": "VgnG8OM07u0A",
        "colab_type": "code",
        "colab": {}
      },
      "source": [
        ""
      ],
      "execution_count": 0,
      "outputs": []
    }
  ]
}